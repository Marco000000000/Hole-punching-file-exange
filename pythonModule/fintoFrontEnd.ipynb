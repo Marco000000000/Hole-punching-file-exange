{
 "cells": [
  {
   "cell_type": "code",
   "execution_count": 2,
   "metadata": {},
   "outputs": [],
   "source": [
    "import requests\n",
    "import json\n",
    "import os\n",
    "TURNSERVER=\"192.168.1.64\"\n",
    "PYTHONSERVER=\"localhost\"\n",
    "DOWNLOADDIRECTORY=os.getenv(\"downloadDirectory\",\"downloadDirectory\")\n",
    "\n"
   ]
  },
  {
   "cell_type": "code",
   "execution_count": 196,
   "metadata": {},
   "outputs": [
    {
     "name": "stdout",
     "output_type": "stream",
     "text": [
      "http://localhost:/request/\n",
      "{'code': 'PaxH'}\n"
     ]
    }
   ],
   "source": [
    "\n",
    "\n",
    "data={\n",
    "                \"username\":\"marco2\",\n",
    "                \"password\":\"password\",\n",
    "\n",
    "            }\n",
    "print(\"http://\"+TURNSERVER+\":\"+\"/request/\")\n",
    "firstCall=requests.post( \"http://\"+TURNSERVER+\"/login\", data=json.dumps(data).encode('utf-8'),timeout=5)\n",
    "print(firstCall.json())\n",
    "code=firstCall.json()[\"code\"]\n"
   ]
  },
  {
   "cell_type": "code",
   "execution_count": 42,
   "metadata": {},
   "outputs": [
    {
     "name": "stdout",
     "output_type": "stream",
     "text": [
      "{'ok': ['C:\\\\Users\\\\Utente\\\\Downloads\\\\', 'C:\\\\Users\\\\Utente\\\\Downloads\\\\OneDrive\\\\Immagini']}\n"
     ]
    }
   ],
   "source": [
    "data={\n",
    "                \"username\":\"marco2\",\n",
    "                \"code\":\"PaxH\",\n",
    "                \"query\":\"start_share\",\n",
    "                \"path\":[\"C:\\\\Users\\\\Utente\\\\Downloads\\\\\" ,\"C:\\\\Users\\\\Utente\\\\Downloads\\\\OneDrive\\\\Immagini\" ]\n",
    "}\n",
    "firstCall=requests.post( \"http://127.0.0.1/\", json=data,timeout=10)\n",
    "\n",
    "print(firstCall.json())"
   ]
  },
  {
   "cell_type": "code",
   "execution_count": 43,
   "metadata": {},
   "outputs": [
    {
     "name": "stdout",
     "output_type": "stream",
     "text": [
      "[\"C:\\\\Users\\\\2000m\\\\Downloads\"]\n",
      "\n"
     ]
    }
   ],
   "source": [
    "data={\n",
    "        \"username\":\"marco2\",\n",
    "                \"code\":\"PaxH\",\n",
    "                \"peer_username\":\"marco\",\n",
    "                \"peer_code\":\"wQYy\",\n",
    "        \"query\":\"names\",\n",
    "        \"path\":\"/\"\n",
    "}\n",
    "firstCall=requests.post( \"http://127.0.0.1/\", json=data)\n",
    "# data={\n",
    "#                 \"peer_username\":\"marco2\",\n",
    "#                 \"peer_code\":\"WcOf\",\n",
    "#                 \"username\":\"marco2\",\n",
    "#                 \"code\":\"WcOf\",\n",
    "#                 \"query\":\"names\",\n",
    "#                 \"path\":\"C:\\\\Users\\\\Utente\\\\Downloads\\\\commenti.sql\"\n",
    "# }\n",
    "# firstCall=requests.post( \"http://127.0.0.1/\", json=data,timeout=10)\n",
    "\n",
    "print(firstCall.text)"
   ]
  },
  {
   "cell_type": "code",
   "execution_count": 179,
   "metadata": {},
   "outputs": [],
   "source": [
    "data={\n",
    "                \"peer_username\":\"marco2\",\n",
    "                \"peer_code\":\"PaxH\",\n",
    "                \"username\":\"marco\",\n",
    "                \"code\":\"wQYy\",\n",
    "                \"operation\":2,\n",
    "                \"path\":\"C:\\\\Users\\\\Utente\\\\Downloads\\\\holePunch\"\n",
    "}\n",
    "response=requests.post( \"http://\"+TURNSERVER+\"/request\", json=data,timeout=10)\n",
    "\n",
    "with open(os.path.join( DOWNLOADDIRECTORY,data[\"path\"].split(os.path.sep)[-1]), 'wb') as received_file:\n",
    "                received_file.write((response.content) )\n"
   ]
  }
 ],
 "metadata": {
  "kernelspec": {
   "display_name": "Python 3",
   "language": "python",
   "name": "python3"
  },
  "language_info": {
   "codemirror_mode": {
    "name": "ipython",
    "version": 3
   },
   "file_extension": ".py",
   "mimetype": "text/x-python",
   "name": "python",
   "nbconvert_exporter": "python",
   "pygments_lexer": "ipython3",
   "version": "3.9.9"
  }
 },
 "nbformat": 4,
 "nbformat_minor": 2
}
